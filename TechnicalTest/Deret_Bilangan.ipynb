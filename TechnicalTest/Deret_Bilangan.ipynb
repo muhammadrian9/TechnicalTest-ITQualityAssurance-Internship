{
  "nbformat": 4,
  "nbformat_minor": 0,
  "metadata": {
    "colab": {
      "provenance": []
    },
    "kernelspec": {
      "name": "python3",
      "display_name": "Python 3"
    },
    "language_info": {
      "name": "python"
    }
  },
  "cells": [
    {
      "cell_type": "code",
      "execution_count": 40,
      "metadata": {
        "colab": {
          "base_uri": "https://localhost:8080/"
        },
        "id": "AOYHacLVA28J",
        "outputId": "bf38a147-9c83-4e5a-9b12-025aa506a9e2"
      },
      "outputs": [
        {
          "output_type": "stream",
          "name": "stdout",
          "text": [
            "Input= 9\n",
            "9 7 5 3 1 "
          ]
        }
      ],
      "source": [
        "bil_input = int(input('Input= '))\n",
        "\n",
        "for i in range(bil_input,0,-1):\n",
        "  if (i%2 ==1):\n",
        "    print(i, end=' ')"
      ]
    }
  ]
}