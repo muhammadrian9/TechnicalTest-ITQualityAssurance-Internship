{
  "nbformat": 4,
  "nbformat_minor": 0,
  "metadata": {
    "colab": {
      "provenance": []
    },
    "kernelspec": {
      "name": "python3",
      "display_name": "Python 3"
    },
    "language_info": {
      "name": "python"
    }
  },
  "cells": [
    {
      "cell_type": "code",
      "execution_count": 5,
      "metadata": {
        "colab": {
          "base_uri": "https://localhost:8080/"
        },
        "id": "_SOycZqIQOKW",
        "outputId": "79b7dde0-f0a3-47b1-be5e-c2f25a4c5c67"
      },
      "outputs": [
        {
          "output_type": "stream",
          "name": "stdout",
          "text": [
            "Input = indonesia raya\n",
            "Output =   ioeiaaa\n"
          ]
        }
      ],
      "source": [
        "Teks = str(input('Input = '))\n",
        "Huruf_Vokal = ' '\n",
        "\n",
        "for i in Teks :\n",
        "  if i in 'aiueo' :\n",
        "    Huruf_Vokal = Huruf_Vokal + i\n",
        "\n",
        "print('Output = ', Huruf_Vokal)"
      ]
    }
  ]
}